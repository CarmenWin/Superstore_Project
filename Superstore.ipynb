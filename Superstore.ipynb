{
 "cells": [
  {
   "cell_type": "code",
   "execution_count": 67,
   "metadata": {},
   "outputs": [],
   "source": [
    "import pandas as pd\n",
    "import seaborn as sns\n",
    "import matplotlib as plt\n",
    "import matplotlib.pyplot as plt\n",
    "import matplotlib.dates as mdates\n",
    "import datetime as dt\n",
    "from datetime import datetime \n",
    "from dateutil.parser import parse \n",
    "import matplotlib as mpl\n",
    "import numpy as np\n",
    "from datetime import date\n",
    "import calendar\n",
    "from numpy import mean\n",
    "from numpy import std\n",
    "import sqlite3\n",
    "import pandas as pd\n",
    "import sqlite3\n",
    "import openpyxl"
   ]
  },
  {
   "cell_type": "code",
   "execution_count": 68,
   "metadata": {},
   "outputs": [],
   "source": [
    "sqliteConnection = sqlite3.connect('Superstore_database.db')"
   ]
  },
  {
   "cell_type": "code",
   "execution_count": 69,
   "metadata": {},
   "outputs": [],
   "source": [
    "cursor = sqliteConnection.cursor()"
   ]
  },
  {
   "cell_type": "code",
   "execution_count": 70,
   "metadata": {},
   "outputs": [
    {
     "name": "stdout",
     "output_type": "stream",
     "text": [
      "Connected to the database\n"
     ]
    }
   ],
   "source": [
    "\n",
    "# connecting to the database\n",
    "connection = sqlite3.connect(\"Superstore_database.db\")\n",
    "\n",
    "# cursor\n",
    "crsr = connection.cursor()\n",
    "\n",
    "# print statement will execute if there\n",
    "# are no errors\n",
    "print(\"Connected to the database\")\n",
    "\n",
    "# close the connection\n",
    "connection.close()\n"
   ]
  },
  {
   "cell_type": "code",
   "execution_count": 71,
   "metadata": {},
   "outputs": [],
   "source": [
    "rows = cursor.fetchmany(1)  \n",
    "for row in rows:\n",
    "    print(row)"
   ]
  },
  {
   "cell_type": "code",
   "execution_count": 73,
   "metadata": {},
   "outputs": [],
   "source": [
    "db = sqlite3.connect('Superstore_database.db')\n",
    "dfs = pd.read_excel('Sample-Superstore.xlsx', sheet_name=None)"
   ]
  },
  {
   "cell_type": "code",
   "execution_count": 74,
   "metadata": {},
   "outputs": [
    {
     "ename": "ValueError",
     "evalue": "Table 'Sample-Superstore copy' already exists.",
     "output_type": "error",
     "traceback": [
      "\u001b[0;31m---------------------------------------------------------------------------\u001b[0m",
      "\u001b[0;31mValueError\u001b[0m                                Traceback (most recent call last)",
      "Cell \u001b[0;32mIn[74], line 2\u001b[0m\n\u001b[1;32m      1\u001b[0m \u001b[39mfor\u001b[39;00m table, df \u001b[39min\u001b[39;00m dfs\u001b[39m.\u001b[39mitems():\n\u001b[0;32m----> 2\u001b[0m     df\u001b[39m.\u001b[39mto_sql(table, db, index\u001b[39m=\u001b[39m\u001b[39mTrue\u001b[39;00m)\n\u001b[1;32m      3\u001b[0m db\u001b[39m.\u001b[39mcommit()\n\u001b[1;32m      4\u001b[0m db\u001b[39m.\u001b[39mclose()\n",
      "File \u001b[0;32m~/anaconda3/envs/CodeAcademy/lib/python3.11/site-packages/pandas/core/generic.py:2987\u001b[0m, in \u001b[0;36mNDFrame.to_sql\u001b[0;34m(self, name, con, schema, if_exists, index, index_label, chunksize, dtype, method)\u001b[0m\n\u001b[1;32m   2830\u001b[0m \u001b[39m\"\"\"\u001b[39;00m\n\u001b[1;32m   2831\u001b[0m \u001b[39mWrite records stored in a DataFrame to a SQL database.\u001b[39;00m\n\u001b[1;32m   2832\u001b[0m \n\u001b[0;32m   (...)\u001b[0m\n\u001b[1;32m   2983\u001b[0m \u001b[39m[(1,), (None,), (2,)]\u001b[39;00m\n\u001b[1;32m   2984\u001b[0m \u001b[39m\"\"\"\u001b[39;00m  \u001b[39m# noqa:E501\u001b[39;00m\n\u001b[1;32m   2985\u001b[0m \u001b[39mfrom\u001b[39;00m \u001b[39mpandas\u001b[39;00m\u001b[39m.\u001b[39;00m\u001b[39mio\u001b[39;00m \u001b[39mimport\u001b[39;00m sql\n\u001b[0;32m-> 2987\u001b[0m \u001b[39mreturn\u001b[39;00m sql\u001b[39m.\u001b[39mto_sql(\n\u001b[1;32m   2988\u001b[0m     \u001b[39mself\u001b[39m,\n\u001b[1;32m   2989\u001b[0m     name,\n\u001b[1;32m   2990\u001b[0m     con,\n\u001b[1;32m   2991\u001b[0m     schema\u001b[39m=\u001b[39mschema,\n\u001b[1;32m   2992\u001b[0m     if_exists\u001b[39m=\u001b[39mif_exists,\n\u001b[1;32m   2993\u001b[0m     index\u001b[39m=\u001b[39mindex,\n\u001b[1;32m   2994\u001b[0m     index_label\u001b[39m=\u001b[39mindex_label,\n\u001b[1;32m   2995\u001b[0m     chunksize\u001b[39m=\u001b[39mchunksize,\n\u001b[1;32m   2996\u001b[0m     dtype\u001b[39m=\u001b[39mdtype,\n\u001b[1;32m   2997\u001b[0m     method\u001b[39m=\u001b[39mmethod,\n\u001b[1;32m   2998\u001b[0m )\n",
      "File \u001b[0;32m~/anaconda3/envs/CodeAcademy/lib/python3.11/site-packages/pandas/io/sql.py:695\u001b[0m, in \u001b[0;36mto_sql\u001b[0;34m(frame, name, con, schema, if_exists, index, index_label, chunksize, dtype, method, engine, **engine_kwargs)\u001b[0m\n\u001b[1;32m    690\u001b[0m \u001b[39melif\u001b[39;00m \u001b[39mnot\u001b[39;00m \u001b[39misinstance\u001b[39m(frame, DataFrame):\n\u001b[1;32m    691\u001b[0m     \u001b[39mraise\u001b[39;00m \u001b[39mNotImplementedError\u001b[39;00m(\n\u001b[1;32m    692\u001b[0m         \u001b[39m\"\u001b[39m\u001b[39m'\u001b[39m\u001b[39mframe\u001b[39m\u001b[39m'\u001b[39m\u001b[39m argument should be either a Series or a DataFrame\u001b[39m\u001b[39m\"\u001b[39m\n\u001b[1;32m    693\u001b[0m     )\n\u001b[0;32m--> 695\u001b[0m \u001b[39mreturn\u001b[39;00m pandas_sql\u001b[39m.\u001b[39mto_sql(\n\u001b[1;32m    696\u001b[0m     frame,\n\u001b[1;32m    697\u001b[0m     name,\n\u001b[1;32m    698\u001b[0m     if_exists\u001b[39m=\u001b[39mif_exists,\n\u001b[1;32m    699\u001b[0m     index\u001b[39m=\u001b[39mindex,\n\u001b[1;32m    700\u001b[0m     index_label\u001b[39m=\u001b[39mindex_label,\n\u001b[1;32m    701\u001b[0m     schema\u001b[39m=\u001b[39mschema,\n\u001b[1;32m    702\u001b[0m     chunksize\u001b[39m=\u001b[39mchunksize,\n\u001b[1;32m    703\u001b[0m     dtype\u001b[39m=\u001b[39mdtype,\n\u001b[1;32m    704\u001b[0m     method\u001b[39m=\u001b[39mmethod,\n\u001b[1;32m    705\u001b[0m     engine\u001b[39m=\u001b[39mengine,\n\u001b[1;32m    706\u001b[0m     \u001b[39m*\u001b[39m\u001b[39m*\u001b[39mengine_kwargs,\n\u001b[1;32m    707\u001b[0m )\n",
      "File \u001b[0;32m~/anaconda3/envs/CodeAcademy/lib/python3.11/site-packages/pandas/io/sql.py:2187\u001b[0m, in \u001b[0;36mSQLiteDatabase.to_sql\u001b[0;34m(self, frame, name, if_exists, index, index_label, schema, chunksize, dtype, method, **kwargs)\u001b[0m\n\u001b[1;32m   2176\u001b[0m             \u001b[39mraise\u001b[39;00m \u001b[39mValueError\u001b[39;00m(\u001b[39mf\u001b[39m\u001b[39m\"\u001b[39m\u001b[39m{\u001b[39;00mcol\u001b[39m}\u001b[39;00m\u001b[39m (\u001b[39m\u001b[39m{\u001b[39;00mmy_type\u001b[39m}\u001b[39;00m\u001b[39m) not a string\u001b[39m\u001b[39m\"\u001b[39m)\n\u001b[1;32m   2178\u001b[0m table \u001b[39m=\u001b[39m SQLiteTable(\n\u001b[1;32m   2179\u001b[0m     name,\n\u001b[1;32m   2180\u001b[0m     \u001b[39mself\u001b[39m,\n\u001b[0;32m   (...)\u001b[0m\n\u001b[1;32m   2185\u001b[0m     dtype\u001b[39m=\u001b[39mdtype,\n\u001b[1;32m   2186\u001b[0m )\n\u001b[0;32m-> 2187\u001b[0m table\u001b[39m.\u001b[39mcreate()\n\u001b[1;32m   2188\u001b[0m \u001b[39mreturn\u001b[39;00m table\u001b[39m.\u001b[39minsert(chunksize, method)\n",
      "File \u001b[0;32m~/anaconda3/envs/CodeAcademy/lib/python3.11/site-packages/pandas/io/sql.py:829\u001b[0m, in \u001b[0;36mSQLTable.create\u001b[0;34m(self)\u001b[0m\n\u001b[1;32m    827\u001b[0m \u001b[39mif\u001b[39;00m \u001b[39mself\u001b[39m\u001b[39m.\u001b[39mexists():\n\u001b[1;32m    828\u001b[0m     \u001b[39mif\u001b[39;00m \u001b[39mself\u001b[39m\u001b[39m.\u001b[39mif_exists \u001b[39m==\u001b[39m \u001b[39m\"\u001b[39m\u001b[39mfail\u001b[39m\u001b[39m\"\u001b[39m:\n\u001b[0;32m--> 829\u001b[0m         \u001b[39mraise\u001b[39;00m \u001b[39mValueError\u001b[39;00m(\u001b[39mf\u001b[39m\u001b[39m\"\u001b[39m\u001b[39mTable \u001b[39m\u001b[39m'\u001b[39m\u001b[39m{\u001b[39;00m\u001b[39mself\u001b[39m\u001b[39m.\u001b[39mname\u001b[39m}\u001b[39;00m\u001b[39m'\u001b[39m\u001b[39m already exists.\u001b[39m\u001b[39m\"\u001b[39m)\n\u001b[1;32m    830\u001b[0m     \u001b[39melif\u001b[39;00m \u001b[39mself\u001b[39m\u001b[39m.\u001b[39mif_exists \u001b[39m==\u001b[39m \u001b[39m\"\u001b[39m\u001b[39mreplace\u001b[39m\u001b[39m\"\u001b[39m:\n\u001b[1;32m    831\u001b[0m         \u001b[39mself\u001b[39m\u001b[39m.\u001b[39mpd_sql\u001b[39m.\u001b[39mdrop_table(\u001b[39mself\u001b[39m\u001b[39m.\u001b[39mname, \u001b[39mself\u001b[39m\u001b[39m.\u001b[39mschema)\n",
      "\u001b[0;31mValueError\u001b[0m: Table 'Sample-Superstore copy' already exists."
     ]
    }
   ],
   "source": [
    "for table, df in dfs.items():\n",
    "    df.to_sql(table, db, index=True)\n",
    "db.commit()\n",
    "db.close()"
   ]
  },
  {
   "cell_type": "code",
   "execution_count": null,
   "metadata": {},
   "outputs": [
    {
     "data": {
      "text/plain": [
       "dict_items([('Sample-Superstore copy',      Row ID,Order ID,Order Date,Ship Date,Ship Mode,Customer ID,Customer Name,Segment,Country,City,State,Postal Code,Region,Product ID,Category,Sub-Category,Product Name,Sales,Quantity,Discount,Profit  \\\n",
       "0     1,CA-2016-152156,11/8/2016,11/11/2016,Second C...                                                                                                                                                    \n",
       "1     2,CA-2016-152156,11/8/2016,11/11/2016,Second C...                                                                                                                                                    \n",
       "2     3,CA-2016-138688,6/12/2016,6/16/2016,Second Cl...                                                                                                                                                    \n",
       "3     4,US-2015-108966,10/11/2015,10/18/2015,Standar...                                                                                                                                                    \n",
       "4     5,US-2015-108966,10/11/2015,10/18/2015,Standar...                                                                                                                                                    \n",
       "...                                                 ...                                                                                                                                                    \n",
       "9990  9991,CA-2017-121258,2/26/2017,3/3/2017,Standar...                                                                                                                                                    \n",
       "9991  9992,CA-2017-121258,2/26/2017,3/3/2017,Standar...                                                                                                                                                    \n",
       "9992  9993,CA-2017-121258,2/26/2017,3/3/2017,Standar...                                                                                                                                                    \n",
       "9993  9994,CA-2017-119914,5/4/2017,5/9/2017,Second C...                                                                                                                                                    \n",
       "9994                                                 \\n                                                                                                                                                    \n",
       "\n",
       "     Unnamed: 1  \n",
       "0           NaN  \n",
       "1           NaN  \n",
       "2           NaN  \n",
       "3           NaN  \n",
       "4           NaN  \n",
       "...         ...  \n",
       "9990        NaN  \n",
       "9991        NaN  \n",
       "9992        NaN  \n",
       "9993        NaN  \n",
       "9994        NaN  \n",
       "\n",
       "[9995 rows x 2 columns])])"
      ]
     },
     "execution_count": 65,
     "metadata": {},
     "output_type": "execute_result"
    }
   ],
   "source": [
    "dfs.items()"
   ]
  },
  {
   "cell_type": "code",
   "execution_count": null,
   "metadata": {},
   "outputs": [
    {
     "ename": "ValueError",
     "evalue": "Worksheet named 'Products' not found",
     "output_type": "error",
     "traceback": [
      "\u001b[0;31m---------------------------------------------------------------------------\u001b[0m",
      "\u001b[0;31mValueError\u001b[0m                                Traceback (most recent call last)",
      "Cell \u001b[0;32mIn[66], line 1\u001b[0m\n\u001b[0;32m----> 1\u001b[0m products \u001b[39m=\u001b[39m pd\u001b[39m.\u001b[39mread_excel(\n\u001b[1;32m      2\u001b[0m     \u001b[39m'\u001b[39m\u001b[39mSample-Superstore.xlsx\u001b[39m\u001b[39m'\u001b[39m,\n\u001b[1;32m      3\u001b[0m     sheet_name\u001b[39m=\u001b[39m\u001b[39m'\u001b[39m\u001b[39mProducts\u001b[39m\u001b[39m'\u001b[39m,\n\u001b[1;32m      4\u001b[0m     header\u001b[39m=\u001b[39m\u001b[39m0\u001b[39m)\n",
      "File \u001b[0;32m~/anaconda3/envs/CodeAcademy/lib/python3.11/site-packages/pandas/util/_decorators.py:211\u001b[0m, in \u001b[0;36mdeprecate_kwarg.<locals>._deprecate_kwarg.<locals>.wrapper\u001b[0;34m(*args, **kwargs)\u001b[0m\n\u001b[1;32m    209\u001b[0m     \u001b[39melse\u001b[39;00m:\n\u001b[1;32m    210\u001b[0m         kwargs[new_arg_name] \u001b[39m=\u001b[39m new_arg_value\n\u001b[0;32m--> 211\u001b[0m \u001b[39mreturn\u001b[39;00m func(\u001b[39m*\u001b[39margs, \u001b[39m*\u001b[39m\u001b[39m*\u001b[39mkwargs)\n",
      "File \u001b[0;32m~/anaconda3/envs/CodeAcademy/lib/python3.11/site-packages/pandas/util/_decorators.py:331\u001b[0m, in \u001b[0;36mdeprecate_nonkeyword_arguments.<locals>.decorate.<locals>.wrapper\u001b[0;34m(*args, **kwargs)\u001b[0m\n\u001b[1;32m    325\u001b[0m \u001b[39mif\u001b[39;00m \u001b[39mlen\u001b[39m(args) \u001b[39m>\u001b[39m num_allow_args:\n\u001b[1;32m    326\u001b[0m     warnings\u001b[39m.\u001b[39mwarn(\n\u001b[1;32m    327\u001b[0m         msg\u001b[39m.\u001b[39mformat(arguments\u001b[39m=\u001b[39m_format_argument_list(allow_args)),\n\u001b[1;32m    328\u001b[0m         \u001b[39mFutureWarning\u001b[39;00m,\n\u001b[1;32m    329\u001b[0m         stacklevel\u001b[39m=\u001b[39mfind_stack_level(),\n\u001b[1;32m    330\u001b[0m     )\n\u001b[0;32m--> 331\u001b[0m \u001b[39mreturn\u001b[39;00m func(\u001b[39m*\u001b[39margs, \u001b[39m*\u001b[39m\u001b[39m*\u001b[39mkwargs)\n",
      "File \u001b[0;32m~/anaconda3/envs/CodeAcademy/lib/python3.11/site-packages/pandas/io/excel/_base.py:490\u001b[0m, in \u001b[0;36mread_excel\u001b[0;34m(io, sheet_name, header, names, index_col, usecols, squeeze, dtype, engine, converters, true_values, false_values, skiprows, nrows, na_values, keep_default_na, na_filter, verbose, parse_dates, date_parser, thousands, decimal, comment, skipfooter, convert_float, mangle_dupe_cols, storage_options)\u001b[0m\n\u001b[1;32m    484\u001b[0m     \u001b[39mraise\u001b[39;00m \u001b[39mValueError\u001b[39;00m(\n\u001b[1;32m    485\u001b[0m         \u001b[39m\"\u001b[39m\u001b[39mEngine should not be specified when passing \u001b[39m\u001b[39m\"\u001b[39m\n\u001b[1;32m    486\u001b[0m         \u001b[39m\"\u001b[39m\u001b[39man ExcelFile - ExcelFile already has the engine set\u001b[39m\u001b[39m\"\u001b[39m\n\u001b[1;32m    487\u001b[0m     )\n\u001b[1;32m    489\u001b[0m \u001b[39mtry\u001b[39;00m:\n\u001b[0;32m--> 490\u001b[0m     data \u001b[39m=\u001b[39m io\u001b[39m.\u001b[39mparse(\n\u001b[1;32m    491\u001b[0m         sheet_name\u001b[39m=\u001b[39msheet_name,\n\u001b[1;32m    492\u001b[0m         header\u001b[39m=\u001b[39mheader,\n\u001b[1;32m    493\u001b[0m         names\u001b[39m=\u001b[39mnames,\n\u001b[1;32m    494\u001b[0m         index_col\u001b[39m=\u001b[39mindex_col,\n\u001b[1;32m    495\u001b[0m         usecols\u001b[39m=\u001b[39musecols,\n\u001b[1;32m    496\u001b[0m         squeeze\u001b[39m=\u001b[39msqueeze,\n\u001b[1;32m    497\u001b[0m         dtype\u001b[39m=\u001b[39mdtype,\n\u001b[1;32m    498\u001b[0m         converters\u001b[39m=\u001b[39mconverters,\n\u001b[1;32m    499\u001b[0m         true_values\u001b[39m=\u001b[39mtrue_values,\n\u001b[1;32m    500\u001b[0m         false_values\u001b[39m=\u001b[39mfalse_values,\n\u001b[1;32m    501\u001b[0m         skiprows\u001b[39m=\u001b[39mskiprows,\n\u001b[1;32m    502\u001b[0m         nrows\u001b[39m=\u001b[39mnrows,\n\u001b[1;32m    503\u001b[0m         na_values\u001b[39m=\u001b[39mna_values,\n\u001b[1;32m    504\u001b[0m         keep_default_na\u001b[39m=\u001b[39mkeep_default_na,\n\u001b[1;32m    505\u001b[0m         na_filter\u001b[39m=\u001b[39mna_filter,\n\u001b[1;32m    506\u001b[0m         verbose\u001b[39m=\u001b[39mverbose,\n\u001b[1;32m    507\u001b[0m         parse_dates\u001b[39m=\u001b[39mparse_dates,\n\u001b[1;32m    508\u001b[0m         date_parser\u001b[39m=\u001b[39mdate_parser,\n\u001b[1;32m    509\u001b[0m         thousands\u001b[39m=\u001b[39mthousands,\n\u001b[1;32m    510\u001b[0m         decimal\u001b[39m=\u001b[39mdecimal,\n\u001b[1;32m    511\u001b[0m         comment\u001b[39m=\u001b[39mcomment,\n\u001b[1;32m    512\u001b[0m         skipfooter\u001b[39m=\u001b[39mskipfooter,\n\u001b[1;32m    513\u001b[0m         convert_float\u001b[39m=\u001b[39mconvert_float,\n\u001b[1;32m    514\u001b[0m         mangle_dupe_cols\u001b[39m=\u001b[39mmangle_dupe_cols,\n\u001b[1;32m    515\u001b[0m     )\n\u001b[1;32m    516\u001b[0m \u001b[39mfinally\u001b[39;00m:\n\u001b[1;32m    517\u001b[0m     \u001b[39m# make sure to close opened file handles\u001b[39;00m\n\u001b[1;32m    518\u001b[0m     \u001b[39mif\u001b[39;00m should_close:\n",
      "File \u001b[0;32m~/anaconda3/envs/CodeAcademy/lib/python3.11/site-packages/pandas/io/excel/_base.py:1734\u001b[0m, in \u001b[0;36mExcelFile.parse\u001b[0;34m(self, sheet_name, header, names, index_col, usecols, squeeze, converters, true_values, false_values, skiprows, nrows, na_values, parse_dates, date_parser, thousands, comment, skipfooter, convert_float, mangle_dupe_cols, **kwds)\u001b[0m\n\u001b[1;32m   1700\u001b[0m \u001b[39mdef\u001b[39;00m \u001b[39mparse\u001b[39m(\n\u001b[1;32m   1701\u001b[0m     \u001b[39mself\u001b[39m,\n\u001b[1;32m   1702\u001b[0m     sheet_name: \u001b[39mstr\u001b[39m \u001b[39m|\u001b[39m \u001b[39mint\u001b[39m \u001b[39m|\u001b[39m \u001b[39mlist\u001b[39m[\u001b[39mint\u001b[39m] \u001b[39m|\u001b[39m \u001b[39mlist\u001b[39m[\u001b[39mstr\u001b[39m] \u001b[39m|\u001b[39m \u001b[39mNone\u001b[39;00m \u001b[39m=\u001b[39m \u001b[39m0\u001b[39m,\n\u001b[0;32m   (...)\u001b[0m\n\u001b[1;32m   1721\u001b[0m     \u001b[39m*\u001b[39m\u001b[39m*\u001b[39mkwds,\n\u001b[1;32m   1722\u001b[0m ) \u001b[39m-\u001b[39m\u001b[39m>\u001b[39m DataFrame \u001b[39m|\u001b[39m \u001b[39mdict\u001b[39m[\u001b[39mstr\u001b[39m, DataFrame] \u001b[39m|\u001b[39m \u001b[39mdict\u001b[39m[\u001b[39mint\u001b[39m, DataFrame]:\n\u001b[1;32m   1723\u001b[0m     \u001b[39m\"\"\"\u001b[39;00m\n\u001b[1;32m   1724\u001b[0m \u001b[39m    Parse specified sheet(s) into a DataFrame.\u001b[39;00m\n\u001b[1;32m   1725\u001b[0m \n\u001b[0;32m   (...)\u001b[0m\n\u001b[1;32m   1732\u001b[0m \u001b[39m        DataFrame from the passed in Excel file.\u001b[39;00m\n\u001b[1;32m   1733\u001b[0m \u001b[39m    \"\"\"\u001b[39;00m\n\u001b[0;32m-> 1734\u001b[0m     \u001b[39mreturn\u001b[39;00m \u001b[39mself\u001b[39m\u001b[39m.\u001b[39m_reader\u001b[39m.\u001b[39mparse(\n\u001b[1;32m   1735\u001b[0m         sheet_name\u001b[39m=\u001b[39msheet_name,\n\u001b[1;32m   1736\u001b[0m         header\u001b[39m=\u001b[39mheader,\n\u001b[1;32m   1737\u001b[0m         names\u001b[39m=\u001b[39mnames,\n\u001b[1;32m   1738\u001b[0m         index_col\u001b[39m=\u001b[39mindex_col,\n\u001b[1;32m   1739\u001b[0m         usecols\u001b[39m=\u001b[39musecols,\n\u001b[1;32m   1740\u001b[0m         squeeze\u001b[39m=\u001b[39msqueeze,\n\u001b[1;32m   1741\u001b[0m         converters\u001b[39m=\u001b[39mconverters,\n\u001b[1;32m   1742\u001b[0m         true_values\u001b[39m=\u001b[39mtrue_values,\n\u001b[1;32m   1743\u001b[0m         false_values\u001b[39m=\u001b[39mfalse_values,\n\u001b[1;32m   1744\u001b[0m         skiprows\u001b[39m=\u001b[39mskiprows,\n\u001b[1;32m   1745\u001b[0m         nrows\u001b[39m=\u001b[39mnrows,\n\u001b[1;32m   1746\u001b[0m         na_values\u001b[39m=\u001b[39mna_values,\n\u001b[1;32m   1747\u001b[0m         parse_dates\u001b[39m=\u001b[39mparse_dates,\n\u001b[1;32m   1748\u001b[0m         date_parser\u001b[39m=\u001b[39mdate_parser,\n\u001b[1;32m   1749\u001b[0m         thousands\u001b[39m=\u001b[39mthousands,\n\u001b[1;32m   1750\u001b[0m         comment\u001b[39m=\u001b[39mcomment,\n\u001b[1;32m   1751\u001b[0m         skipfooter\u001b[39m=\u001b[39mskipfooter,\n\u001b[1;32m   1752\u001b[0m         convert_float\u001b[39m=\u001b[39mconvert_float,\n\u001b[1;32m   1753\u001b[0m         mangle_dupe_cols\u001b[39m=\u001b[39mmangle_dupe_cols,\n\u001b[1;32m   1754\u001b[0m         \u001b[39m*\u001b[39m\u001b[39m*\u001b[39mkwds,\n\u001b[1;32m   1755\u001b[0m     )\n",
      "File \u001b[0;32m~/anaconda3/envs/CodeAcademy/lib/python3.11/site-packages/pandas/io/excel/_base.py:760\u001b[0m, in \u001b[0;36mBaseExcelReader.parse\u001b[0;34m(self, sheet_name, header, names, index_col, usecols, squeeze, dtype, true_values, false_values, skiprows, nrows, na_values, verbose, parse_dates, date_parser, thousands, decimal, comment, skipfooter, convert_float, mangle_dupe_cols, **kwds)\u001b[0m\n\u001b[1;32m    757\u001b[0m     \u001b[39mprint\u001b[39m(\u001b[39mf\u001b[39m\u001b[39m\"\u001b[39m\u001b[39mReading sheet \u001b[39m\u001b[39m{\u001b[39;00masheetname\u001b[39m}\u001b[39;00m\u001b[39m\"\u001b[39m)\n\u001b[1;32m    759\u001b[0m \u001b[39mif\u001b[39;00m \u001b[39misinstance\u001b[39m(asheetname, \u001b[39mstr\u001b[39m):\n\u001b[0;32m--> 760\u001b[0m     sheet \u001b[39m=\u001b[39m \u001b[39mself\u001b[39m\u001b[39m.\u001b[39mget_sheet_by_name(asheetname)\n\u001b[1;32m    761\u001b[0m \u001b[39melse\u001b[39;00m:  \u001b[39m# assume an integer if not a string\u001b[39;00m\n\u001b[1;32m    762\u001b[0m     sheet \u001b[39m=\u001b[39m \u001b[39mself\u001b[39m\u001b[39m.\u001b[39mget_sheet_by_index(asheetname)\n",
      "File \u001b[0;32m~/anaconda3/envs/CodeAcademy/lib/python3.11/site-packages/pandas/io/excel/_openpyxl.py:577\u001b[0m, in \u001b[0;36mOpenpyxlReader.get_sheet_by_name\u001b[0;34m(self, name)\u001b[0m\n\u001b[1;32m    576\u001b[0m \u001b[39mdef\u001b[39;00m \u001b[39mget_sheet_by_name\u001b[39m(\u001b[39mself\u001b[39m, name: \u001b[39mstr\u001b[39m):\n\u001b[0;32m--> 577\u001b[0m     \u001b[39mself\u001b[39m\u001b[39m.\u001b[39mraise_if_bad_sheet_by_name(name)\n\u001b[1;32m    578\u001b[0m     \u001b[39mreturn\u001b[39;00m \u001b[39mself\u001b[39m\u001b[39m.\u001b[39mbook[name]\n",
      "File \u001b[0;32m~/anaconda3/envs/CodeAcademy/lib/python3.11/site-packages/pandas/io/excel/_base.py:602\u001b[0m, in \u001b[0;36mBaseExcelReader.raise_if_bad_sheet_by_name\u001b[0;34m(self, name)\u001b[0m\n\u001b[1;32m    600\u001b[0m \u001b[39mdef\u001b[39;00m \u001b[39mraise_if_bad_sheet_by_name\u001b[39m(\u001b[39mself\u001b[39m, name: \u001b[39mstr\u001b[39m) \u001b[39m-\u001b[39m\u001b[39m>\u001b[39m \u001b[39mNone\u001b[39;00m:\n\u001b[1;32m    601\u001b[0m     \u001b[39mif\u001b[39;00m name \u001b[39mnot\u001b[39;00m \u001b[39min\u001b[39;00m \u001b[39mself\u001b[39m\u001b[39m.\u001b[39msheet_names:\n\u001b[0;32m--> 602\u001b[0m         \u001b[39mraise\u001b[39;00m \u001b[39mValueError\u001b[39;00m(\u001b[39mf\u001b[39m\u001b[39m\"\u001b[39m\u001b[39mWorksheet named \u001b[39m\u001b[39m'\u001b[39m\u001b[39m{\u001b[39;00mname\u001b[39m}\u001b[39;00m\u001b[39m'\u001b[39m\u001b[39m not found\u001b[39m\u001b[39m\"\u001b[39m)\n",
      "\u001b[0;31mValueError\u001b[0m: Worksheet named 'Products' not found"
     ]
    }
   ],
   "source": [
    "products = pd.read_excel(\n",
    "    'Sample-Superstore.xlsx',\n",
    "    sheet_name='Products',\n",
    "    header=0)"
   ]
  },
  {
   "cell_type": "code",
   "execution_count": null,
   "metadata": {},
   "outputs": [
    {
     "ename": "ValueError",
     "evalue": "Worksheet named 'Row ID' not found",
     "output_type": "error",
     "traceback": [
      "\u001b[0;31m---------------------------------------------------------------------------\u001b[0m",
      "\u001b[0;31mValueError\u001b[0m                                Traceback (most recent call last)",
      "Cell \u001b[0;32mIn[59], line 2\u001b[0m\n\u001b[1;32m      1\u001b[0m \u001b[39m#import each sheet with the correct title and point to the first row as column headers\u001b[39;00m\n\u001b[0;32m----> 2\u001b[0m products \u001b[39m=\u001b[39m pd\u001b[39m.\u001b[39mread_excel(\n\u001b[1;32m      3\u001b[0m     \u001b[39m'\u001b[39m\u001b[39mSample-Superstore.xlsx\u001b[39m\u001b[39m'\u001b[39m,\n\u001b[1;32m      4\u001b[0m     sheet_name\u001b[39m=\u001b[39m\u001b[39m'\u001b[39m\u001b[39mRow ID\u001b[39m\u001b[39m'\u001b[39m,\n\u001b[1;32m      5\u001b[0m     header\u001b[39m=\u001b[39m\u001b[39m0\u001b[39m)\n\u001b[1;32m      7\u001b[0m stock \u001b[39m=\u001b[39m pd\u001b[39m.\u001b[39mread_excel(\n\u001b[1;32m      8\u001b[0m     \u001b[39m'\u001b[39m\u001b[39mSample-Superstore.xlsx\u001b[39m\u001b[39m'\u001b[39m,\n\u001b[1;32m      9\u001b[0m     sheet_name\u001b[39m=\u001b[39m\u001b[39m'\u001b[39m\u001b[39mQuantity\u001b[39m\u001b[39m'\u001b[39m,\n\u001b[1;32m     10\u001b[0m     header\u001b[39m=\u001b[39m\u001b[39m0\u001b[39m)\n\u001b[1;32m     12\u001b[0m assessment \u001b[39m=\u001b[39m pd\u001b[39m.\u001b[39mread_excel(\n\u001b[1;32m     13\u001b[0m     \u001b[39m'\u001b[39m\u001b[39mSample-Superstore.xlsx\u001b[39m\u001b[39m'\u001b[39m,\n\u001b[1;32m     14\u001b[0m     sheet_name\u001b[39m=\u001b[39m\u001b[39m'\u001b[39m\u001b[39massessment\u001b[39m\u001b[39m'\u001b[39m,\n\u001b[1;32m     15\u001b[0m     header\u001b[39m=\u001b[39m\u001b[39m0\u001b[39m)\n",
      "File \u001b[0;32m~/anaconda3/envs/CodeAcademy/lib/python3.11/site-packages/pandas/util/_decorators.py:211\u001b[0m, in \u001b[0;36mdeprecate_kwarg.<locals>._deprecate_kwarg.<locals>.wrapper\u001b[0;34m(*args, **kwargs)\u001b[0m\n\u001b[1;32m    209\u001b[0m     \u001b[39melse\u001b[39;00m:\n\u001b[1;32m    210\u001b[0m         kwargs[new_arg_name] \u001b[39m=\u001b[39m new_arg_value\n\u001b[0;32m--> 211\u001b[0m \u001b[39mreturn\u001b[39;00m func(\u001b[39m*\u001b[39margs, \u001b[39m*\u001b[39m\u001b[39m*\u001b[39mkwargs)\n",
      "File \u001b[0;32m~/anaconda3/envs/CodeAcademy/lib/python3.11/site-packages/pandas/util/_decorators.py:331\u001b[0m, in \u001b[0;36mdeprecate_nonkeyword_arguments.<locals>.decorate.<locals>.wrapper\u001b[0;34m(*args, **kwargs)\u001b[0m\n\u001b[1;32m    325\u001b[0m \u001b[39mif\u001b[39;00m \u001b[39mlen\u001b[39m(args) \u001b[39m>\u001b[39m num_allow_args:\n\u001b[1;32m    326\u001b[0m     warnings\u001b[39m.\u001b[39mwarn(\n\u001b[1;32m    327\u001b[0m         msg\u001b[39m.\u001b[39mformat(arguments\u001b[39m=\u001b[39m_format_argument_list(allow_args)),\n\u001b[1;32m    328\u001b[0m         \u001b[39mFutureWarning\u001b[39;00m,\n\u001b[1;32m    329\u001b[0m         stacklevel\u001b[39m=\u001b[39mfind_stack_level(),\n\u001b[1;32m    330\u001b[0m     )\n\u001b[0;32m--> 331\u001b[0m \u001b[39mreturn\u001b[39;00m func(\u001b[39m*\u001b[39margs, \u001b[39m*\u001b[39m\u001b[39m*\u001b[39mkwargs)\n",
      "File \u001b[0;32m~/anaconda3/envs/CodeAcademy/lib/python3.11/site-packages/pandas/io/excel/_base.py:490\u001b[0m, in \u001b[0;36mread_excel\u001b[0;34m(io, sheet_name, header, names, index_col, usecols, squeeze, dtype, engine, converters, true_values, false_values, skiprows, nrows, na_values, keep_default_na, na_filter, verbose, parse_dates, date_parser, thousands, decimal, comment, skipfooter, convert_float, mangle_dupe_cols, storage_options)\u001b[0m\n\u001b[1;32m    484\u001b[0m     \u001b[39mraise\u001b[39;00m \u001b[39mValueError\u001b[39;00m(\n\u001b[1;32m    485\u001b[0m         \u001b[39m\"\u001b[39m\u001b[39mEngine should not be specified when passing \u001b[39m\u001b[39m\"\u001b[39m\n\u001b[1;32m    486\u001b[0m         \u001b[39m\"\u001b[39m\u001b[39man ExcelFile - ExcelFile already has the engine set\u001b[39m\u001b[39m\"\u001b[39m\n\u001b[1;32m    487\u001b[0m     )\n\u001b[1;32m    489\u001b[0m \u001b[39mtry\u001b[39;00m:\n\u001b[0;32m--> 490\u001b[0m     data \u001b[39m=\u001b[39m io\u001b[39m.\u001b[39mparse(\n\u001b[1;32m    491\u001b[0m         sheet_name\u001b[39m=\u001b[39msheet_name,\n\u001b[1;32m    492\u001b[0m         header\u001b[39m=\u001b[39mheader,\n\u001b[1;32m    493\u001b[0m         names\u001b[39m=\u001b[39mnames,\n\u001b[1;32m    494\u001b[0m         index_col\u001b[39m=\u001b[39mindex_col,\n\u001b[1;32m    495\u001b[0m         usecols\u001b[39m=\u001b[39musecols,\n\u001b[1;32m    496\u001b[0m         squeeze\u001b[39m=\u001b[39msqueeze,\n\u001b[1;32m    497\u001b[0m         dtype\u001b[39m=\u001b[39mdtype,\n\u001b[1;32m    498\u001b[0m         converters\u001b[39m=\u001b[39mconverters,\n\u001b[1;32m    499\u001b[0m         true_values\u001b[39m=\u001b[39mtrue_values,\n\u001b[1;32m    500\u001b[0m         false_values\u001b[39m=\u001b[39mfalse_values,\n\u001b[1;32m    501\u001b[0m         skiprows\u001b[39m=\u001b[39mskiprows,\n\u001b[1;32m    502\u001b[0m         nrows\u001b[39m=\u001b[39mnrows,\n\u001b[1;32m    503\u001b[0m         na_values\u001b[39m=\u001b[39mna_values,\n\u001b[1;32m    504\u001b[0m         keep_default_na\u001b[39m=\u001b[39mkeep_default_na,\n\u001b[1;32m    505\u001b[0m         na_filter\u001b[39m=\u001b[39mna_filter,\n\u001b[1;32m    506\u001b[0m         verbose\u001b[39m=\u001b[39mverbose,\n\u001b[1;32m    507\u001b[0m         parse_dates\u001b[39m=\u001b[39mparse_dates,\n\u001b[1;32m    508\u001b[0m         date_parser\u001b[39m=\u001b[39mdate_parser,\n\u001b[1;32m    509\u001b[0m         thousands\u001b[39m=\u001b[39mthousands,\n\u001b[1;32m    510\u001b[0m         decimal\u001b[39m=\u001b[39mdecimal,\n\u001b[1;32m    511\u001b[0m         comment\u001b[39m=\u001b[39mcomment,\n\u001b[1;32m    512\u001b[0m         skipfooter\u001b[39m=\u001b[39mskipfooter,\n\u001b[1;32m    513\u001b[0m         convert_float\u001b[39m=\u001b[39mconvert_float,\n\u001b[1;32m    514\u001b[0m         mangle_dupe_cols\u001b[39m=\u001b[39mmangle_dupe_cols,\n\u001b[1;32m    515\u001b[0m     )\n\u001b[1;32m    516\u001b[0m \u001b[39mfinally\u001b[39;00m:\n\u001b[1;32m    517\u001b[0m     \u001b[39m# make sure to close opened file handles\u001b[39;00m\n\u001b[1;32m    518\u001b[0m     \u001b[39mif\u001b[39;00m should_close:\n",
      "File \u001b[0;32m~/anaconda3/envs/CodeAcademy/lib/python3.11/site-packages/pandas/io/excel/_base.py:1734\u001b[0m, in \u001b[0;36mExcelFile.parse\u001b[0;34m(self, sheet_name, header, names, index_col, usecols, squeeze, converters, true_values, false_values, skiprows, nrows, na_values, parse_dates, date_parser, thousands, comment, skipfooter, convert_float, mangle_dupe_cols, **kwds)\u001b[0m\n\u001b[1;32m   1700\u001b[0m \u001b[39mdef\u001b[39;00m \u001b[39mparse\u001b[39m(\n\u001b[1;32m   1701\u001b[0m     \u001b[39mself\u001b[39m,\n\u001b[1;32m   1702\u001b[0m     sheet_name: \u001b[39mstr\u001b[39m \u001b[39m|\u001b[39m \u001b[39mint\u001b[39m \u001b[39m|\u001b[39m \u001b[39mlist\u001b[39m[\u001b[39mint\u001b[39m] \u001b[39m|\u001b[39m \u001b[39mlist\u001b[39m[\u001b[39mstr\u001b[39m] \u001b[39m|\u001b[39m \u001b[39mNone\u001b[39;00m \u001b[39m=\u001b[39m \u001b[39m0\u001b[39m,\n\u001b[0;32m   (...)\u001b[0m\n\u001b[1;32m   1721\u001b[0m     \u001b[39m*\u001b[39m\u001b[39m*\u001b[39mkwds,\n\u001b[1;32m   1722\u001b[0m ) \u001b[39m-\u001b[39m\u001b[39m>\u001b[39m DataFrame \u001b[39m|\u001b[39m \u001b[39mdict\u001b[39m[\u001b[39mstr\u001b[39m, DataFrame] \u001b[39m|\u001b[39m \u001b[39mdict\u001b[39m[\u001b[39mint\u001b[39m, DataFrame]:\n\u001b[1;32m   1723\u001b[0m     \u001b[39m\"\"\"\u001b[39;00m\n\u001b[1;32m   1724\u001b[0m \u001b[39m    Parse specified sheet(s) into a DataFrame.\u001b[39;00m\n\u001b[1;32m   1725\u001b[0m \n\u001b[0;32m   (...)\u001b[0m\n\u001b[1;32m   1732\u001b[0m \u001b[39m        DataFrame from the passed in Excel file.\u001b[39;00m\n\u001b[1;32m   1733\u001b[0m \u001b[39m    \"\"\"\u001b[39;00m\n\u001b[0;32m-> 1734\u001b[0m     \u001b[39mreturn\u001b[39;00m \u001b[39mself\u001b[39m\u001b[39m.\u001b[39m_reader\u001b[39m.\u001b[39mparse(\n\u001b[1;32m   1735\u001b[0m         sheet_name\u001b[39m=\u001b[39msheet_name,\n\u001b[1;32m   1736\u001b[0m         header\u001b[39m=\u001b[39mheader,\n\u001b[1;32m   1737\u001b[0m         names\u001b[39m=\u001b[39mnames,\n\u001b[1;32m   1738\u001b[0m         index_col\u001b[39m=\u001b[39mindex_col,\n\u001b[1;32m   1739\u001b[0m         usecols\u001b[39m=\u001b[39musecols,\n\u001b[1;32m   1740\u001b[0m         squeeze\u001b[39m=\u001b[39msqueeze,\n\u001b[1;32m   1741\u001b[0m         converters\u001b[39m=\u001b[39mconverters,\n\u001b[1;32m   1742\u001b[0m         true_values\u001b[39m=\u001b[39mtrue_values,\n\u001b[1;32m   1743\u001b[0m         false_values\u001b[39m=\u001b[39mfalse_values,\n\u001b[1;32m   1744\u001b[0m         skiprows\u001b[39m=\u001b[39mskiprows,\n\u001b[1;32m   1745\u001b[0m         nrows\u001b[39m=\u001b[39mnrows,\n\u001b[1;32m   1746\u001b[0m         na_values\u001b[39m=\u001b[39mna_values,\n\u001b[1;32m   1747\u001b[0m         parse_dates\u001b[39m=\u001b[39mparse_dates,\n\u001b[1;32m   1748\u001b[0m         date_parser\u001b[39m=\u001b[39mdate_parser,\n\u001b[1;32m   1749\u001b[0m         thousands\u001b[39m=\u001b[39mthousands,\n\u001b[1;32m   1750\u001b[0m         comment\u001b[39m=\u001b[39mcomment,\n\u001b[1;32m   1751\u001b[0m         skipfooter\u001b[39m=\u001b[39mskipfooter,\n\u001b[1;32m   1752\u001b[0m         convert_float\u001b[39m=\u001b[39mconvert_float,\n\u001b[1;32m   1753\u001b[0m         mangle_dupe_cols\u001b[39m=\u001b[39mmangle_dupe_cols,\n\u001b[1;32m   1754\u001b[0m         \u001b[39m*\u001b[39m\u001b[39m*\u001b[39mkwds,\n\u001b[1;32m   1755\u001b[0m     )\n",
      "File \u001b[0;32m~/anaconda3/envs/CodeAcademy/lib/python3.11/site-packages/pandas/io/excel/_base.py:760\u001b[0m, in \u001b[0;36mBaseExcelReader.parse\u001b[0;34m(self, sheet_name, header, names, index_col, usecols, squeeze, dtype, true_values, false_values, skiprows, nrows, na_values, verbose, parse_dates, date_parser, thousands, decimal, comment, skipfooter, convert_float, mangle_dupe_cols, **kwds)\u001b[0m\n\u001b[1;32m    757\u001b[0m     \u001b[39mprint\u001b[39m(\u001b[39mf\u001b[39m\u001b[39m\"\u001b[39m\u001b[39mReading sheet \u001b[39m\u001b[39m{\u001b[39;00masheetname\u001b[39m}\u001b[39;00m\u001b[39m\"\u001b[39m)\n\u001b[1;32m    759\u001b[0m \u001b[39mif\u001b[39;00m \u001b[39misinstance\u001b[39m(asheetname, \u001b[39mstr\u001b[39m):\n\u001b[0;32m--> 760\u001b[0m     sheet \u001b[39m=\u001b[39m \u001b[39mself\u001b[39m\u001b[39m.\u001b[39mget_sheet_by_name(asheetname)\n\u001b[1;32m    761\u001b[0m \u001b[39melse\u001b[39;00m:  \u001b[39m# assume an integer if not a string\u001b[39;00m\n\u001b[1;32m    762\u001b[0m     sheet \u001b[39m=\u001b[39m \u001b[39mself\u001b[39m\u001b[39m.\u001b[39mget_sheet_by_index(asheetname)\n",
      "File \u001b[0;32m~/anaconda3/envs/CodeAcademy/lib/python3.11/site-packages/pandas/io/excel/_openpyxl.py:577\u001b[0m, in \u001b[0;36mOpenpyxlReader.get_sheet_by_name\u001b[0;34m(self, name)\u001b[0m\n\u001b[1;32m    576\u001b[0m \u001b[39mdef\u001b[39;00m \u001b[39mget_sheet_by_name\u001b[39m(\u001b[39mself\u001b[39m, name: \u001b[39mstr\u001b[39m):\n\u001b[0;32m--> 577\u001b[0m     \u001b[39mself\u001b[39m\u001b[39m.\u001b[39mraise_if_bad_sheet_by_name(name)\n\u001b[1;32m    578\u001b[0m     \u001b[39mreturn\u001b[39;00m \u001b[39mself\u001b[39m\u001b[39m.\u001b[39mbook[name]\n",
      "File \u001b[0;32m~/anaconda3/envs/CodeAcademy/lib/python3.11/site-packages/pandas/io/excel/_base.py:602\u001b[0m, in \u001b[0;36mBaseExcelReader.raise_if_bad_sheet_by_name\u001b[0;34m(self, name)\u001b[0m\n\u001b[1;32m    600\u001b[0m \u001b[39mdef\u001b[39;00m \u001b[39mraise_if_bad_sheet_by_name\u001b[39m(\u001b[39mself\u001b[39m, name: \u001b[39mstr\u001b[39m) \u001b[39m-\u001b[39m\u001b[39m>\u001b[39m \u001b[39mNone\u001b[39;00m:\n\u001b[1;32m    601\u001b[0m     \u001b[39mif\u001b[39;00m name \u001b[39mnot\u001b[39;00m \u001b[39min\u001b[39;00m \u001b[39mself\u001b[39m\u001b[39m.\u001b[39msheet_names:\n\u001b[0;32m--> 602\u001b[0m         \u001b[39mraise\u001b[39;00m \u001b[39mValueError\u001b[39;00m(\u001b[39mf\u001b[39m\u001b[39m\"\u001b[39m\u001b[39mWorksheet named \u001b[39m\u001b[39m'\u001b[39m\u001b[39m{\u001b[39;00mname\u001b[39m}\u001b[39;00m\u001b[39m'\u001b[39m\u001b[39m not found\u001b[39m\u001b[39m\"\u001b[39m)\n",
      "\u001b[0;31mValueError\u001b[0m: Worksheet named 'Row ID' not found"
     ]
    }
   ],
   "source": [
    "#import each sheet with the correct title and point to the first row as column headers\n",
    "products = pd.read_excel(\n",
    "    'Sample-Superstore.xlsx',\n",
    "    sheet_name='Products',\n",
    "    header=0)\n",
    "\n",
    "stock = pd.read_excel(\n",
    "    'Sample-Superstore.xlsx',\n",
    "    sheet_name='Quantity',\n",
    "    header=0)\n",
    "\n",
    "assessment = pd.read_excel(\n",
    "    'Sample-Superstore.xlsx',\n",
    "    sheet_name='assessment',\n",
    "    header=0)\n",
    "\n",
    "invoices = pd.read_excel(\n",
    "    'Sample-Superstore.xlsx',\n",
    "    sheet_name='invoices',\n",
    "    header=0)\n",
    "\n",
    "customers = pd.read_excel(\n",
    "    'Sample-Superstore.xlsx',\n",
    "    sheet_name='Customer Name',\n",
    "    header=0)"
   ]
  },
  {
   "cell_type": "code",
   "execution_count": null,
   "metadata": {},
   "outputs": [],
   "source": [
    "pd"
   ]
  }
 ],
 "metadata": {
  "kernelspec": {
   "display_name": "CodeAcademy",
   "language": "python",
   "name": "python3"
  },
  "language_info": {
   "codemirror_mode": {
    "name": "ipython",
    "version": 3
   },
   "file_extension": ".py",
   "mimetype": "text/x-python",
   "name": "python",
   "nbconvert_exporter": "python",
   "pygments_lexer": "ipython3",
   "version": "3.11.0"
  },
  "orig_nbformat": 4
 },
 "nbformat": 4,
 "nbformat_minor": 2
}
